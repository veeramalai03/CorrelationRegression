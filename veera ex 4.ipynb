{
 "cells": [
  {
   "cell_type": "code",
   "execution_count": 1,
   "id": "669d9500",
   "metadata": {},
   "outputs": [],
   "source": [
    "import numpy as np \n",
    "import math"
   ]
  },
  {
   "cell_type": "code",
   "execution_count": 2,
   "id": "026d76d0",
   "metadata": {},
   "outputs": [],
   "source": [
    "x=[25,28,35,32,31,36,29,38,34,32]\n",
    "y=[43,46,49,41,36,32,31,30,33,39]"
   ]
  },
  {
   "cell_type": "code",
   "execution_count": 3,
   "id": "74064b11",
   "metadata": {},
   "outputs": [],
   "source": [
    "Sx=0\n",
    "Sy=0\n",
    "Sxy=0\n",
    "Sx2=0\n",
    "Sy2=0\n",
    "for i in range(0,10):\n",
    "    Sx=Sx+x[i]\n",
    "    Sy=Sy+y[i]\n",
    "    Sxy=Sxy+x[i]*y[i]\n",
    "    Sx2=Sx2+x[i]**2\n",
    "    Sy2=Sy2+y[i]**2"
   ]
  },
  {
   "cell_type": "code",
   "execution_count": 4,
   "id": "a12994ae",
   "metadata": {},
   "outputs": [
    {
     "name": "stdout",
     "output_type": "stream",
     "text": [
      "The Correlation coefficient is -0.008\n"
     ]
    }
   ],
   "source": [
    "N=10\n",
    "r=(N*Sxy-Sx*Sy)/(math.sqrt(N*Sx2-Sx*2)*math.sqrt(N*Sy2-Sy*2))\n",
    "print(\"The Correlation coefficient is %0.3f\"%r)"
   ]
  },
  {
   "cell_type": "code",
   "execution_count": null,
   "id": "d5fb6f4b",
   "metadata": {},
   "outputs": [],
   "source": []
  }
 ],
 "metadata": {
  "kernelspec": {
   "display_name": "Python 3 (ipykernel)",
   "language": "python",
   "name": "python3"
  },
  "language_info": {
   "codemirror_mode": {
    "name": "ipython",
    "version": 3
   },
   "file_extension": ".py",
   "mimetype": "text/x-python",
   "name": "python",
   "nbconvert_exporter": "python",
   "pygments_lexer": "ipython3",
   "version": "3.9.7"
  }
 },
 "nbformat": 4,
 "nbformat_minor": 5
}
